{
  "nbformat": 4,
  "nbformat_minor": 0,
  "metadata": {
    "colab": {
      "provenance": []
    },
    "kernelspec": {
      "name": "python3",
      "display_name": "Python 3"
    },
    "language_info": {
      "name": "python"
    }
  },
  "cells": [
    {
      "cell_type": "markdown",
      "source": [
        "## HW 3 "
      ],
      "metadata": {
        "id": "We7lT5g72Z9N"
      }
    },
    {
      "cell_type": "code",
      "execution_count": 45,
      "metadata": {
        "id": "DSSkj00DaC6g"
      },
      "outputs": [],
      "source": [
        "import yfinance as yf\n",
        "import numpy as np\n",
        "import pandas as pd\n",
        "import pyfolio as pf\n",
        "import scipy.optimize as sco"
      ]
    },
    {
      "cell_type": "code",
      "source": [
        "N_PORTFOLIOS = 10 ** 5 \n",
        "N_DAYS = 252 \n",
        "RISKY_ASSETS = ['AAPL', 'IBM', 'MSFT']\n",
        "RISKY_ASSETS.sort()\n",
        "START_DATE = '2018-01-01'\n",
        "END_DATE = '2018-12-31'\n",
        "\n",
        "n_assets = len(RISKY_ASSETS)"
      ],
      "metadata": {
        "id": "477_LqkEaJLG"
      },
      "execution_count": 46,
      "outputs": []
    },
    {
      "cell_type": "code",
      "source": [
        "prices_df = yf.download(RISKY_ASSETS, start=START_DATE, \n",
        "                        end=END_DATE, adjusted=True)\n",
        "print(f'Downloaded {prices_df.shape[0]} rows of data.')"
      ],
      "metadata": {
        "colab": {
          "base_uri": "https://localhost:8080/"
        },
        "id": "5AwmIuo9aYcf",
        "outputId": "9464a8ac-9d4a-4f5c-f2aa-9c55d0e95431"
      },
      "execution_count": 47,
      "outputs": [
        {
          "output_type": "stream",
          "name": "stdout",
          "text": [
            "[*********************100%***********************]  3 of 3 completed\n",
            "Downloaded 250 rows of data.\n"
          ]
        }
      ]
    },
    {
      "cell_type": "code",
      "source": [
        "returns_df = prices_df['Adj Close'].pct_change().dropna()\n",
        "\n",
        "avg_returns = returns_df.mean() * N_DAYS\n",
        "cov_mat = returns_df.cov() * N_DAYS"
      ],
      "metadata": {
        "id": "eLC_Emz-aYh4"
      },
      "execution_count": 48,
      "outputs": []
    },
    {
      "cell_type": "code",
      "source": [
        "np.random.seed(42)\n",
        "weights = np.random.random(size=(N_PORTFOLIOS, n_assets))\n",
        "weights /= np.sum(weights, axis=1)[:,np.newaxis]"
      ],
      "metadata": {
        "id": "VGpnrNTWaYkN"
      },
      "execution_count": 49,
      "outputs": []
    },
    {
      "cell_type": "code",
      "source": [
        "  portf_rtns = np.dot(weights,avg_returns)\n",
        "\n",
        "  portf_vol = []\n",
        "  for i in range(0, len(weights)): \n",
        "      portf_vol.append(np.sqrt(np.dot(weights[i].T, \n",
        "                                      np.dot(cov_mat, weights[i]))))\n",
        "  \n",
        "\n",
        "  portf_vol = np.array(portf_vol) \n",
        "  portf_sharpe_ratio = portf_rtns / portf_vol "
      ],
      "metadata": {
        "id": "ryYnpYPlaYmx"
      },
      "execution_count": 50,
      "outputs": []
    },
    {
      "cell_type": "code",
      "source": [
        "portf_results_df = pd.DataFrame({'returns': portf_rtns, \n",
        "                                 'volatility': portf_vol, \n",
        "                                 'sharpe_ratio': portf_sharpe_ratio})\n",
        "\n",
        "portf_results_df "
      ],
      "metadata": {
        "colab": {
          "base_uri": "https://localhost:8080/",
          "height": 424
        },
        "id": "Fp-WTBrtaYpM",
        "outputId": "835947cd-0a8d-4bbd-96d1-3b5c03d298e6"
      },
      "execution_count": 51,
      "outputs": [
        {
          "output_type": "execute_result",
          "data": {
            "text/plain": [
              "        returns  volatility  sharpe_ratio\n",
              "0     -0.041840    0.229741     -0.182118\n",
              "1     -0.032099    0.250965     -0.127902\n",
              "2     -0.052787    0.232481     -0.227058\n",
              "3      0.101937    0.262020      0.389045\n",
              "4     -0.038378    0.251882     -0.152365\n",
              "...         ...         ...           ...\n",
              "99995  0.061836    0.245997      0.251370\n",
              "99996  0.049962    0.250287      0.199618\n",
              "99997 -0.048928    0.229516     -0.213178\n",
              "99998  0.050206    0.256901      0.195430\n",
              "99999  0.082046    0.259178      0.316562\n",
              "\n",
              "[100000 rows x 3 columns]"
            ],
            "text/html": [
              "\n",
              "  <div id=\"df-33aa1cd6-852b-45ba-a9a9-c97d5280224c\">\n",
              "    <div class=\"colab-df-container\">\n",
              "      <div>\n",
              "<style scoped>\n",
              "    .dataframe tbody tr th:only-of-type {\n",
              "        vertical-align: middle;\n",
              "    }\n",
              "\n",
              "    .dataframe tbody tr th {\n",
              "        vertical-align: top;\n",
              "    }\n",
              "\n",
              "    .dataframe thead th {\n",
              "        text-align: right;\n",
              "    }\n",
              "</style>\n",
              "<table border=\"1\" class=\"dataframe\">\n",
              "  <thead>\n",
              "    <tr style=\"text-align: right;\">\n",
              "      <th></th>\n",
              "      <th>returns</th>\n",
              "      <th>volatility</th>\n",
              "      <th>sharpe_ratio</th>\n",
              "    </tr>\n",
              "  </thead>\n",
              "  <tbody>\n",
              "    <tr>\n",
              "      <th>0</th>\n",
              "      <td>-0.041840</td>\n",
              "      <td>0.229741</td>\n",
              "      <td>-0.182118</td>\n",
              "    </tr>\n",
              "    <tr>\n",
              "      <th>1</th>\n",
              "      <td>-0.032099</td>\n",
              "      <td>0.250965</td>\n",
              "      <td>-0.127902</td>\n",
              "    </tr>\n",
              "    <tr>\n",
              "      <th>2</th>\n",
              "      <td>-0.052787</td>\n",
              "      <td>0.232481</td>\n",
              "      <td>-0.227058</td>\n",
              "    </tr>\n",
              "    <tr>\n",
              "      <th>3</th>\n",
              "      <td>0.101937</td>\n",
              "      <td>0.262020</td>\n",
              "      <td>0.389045</td>\n",
              "    </tr>\n",
              "    <tr>\n",
              "      <th>4</th>\n",
              "      <td>-0.038378</td>\n",
              "      <td>0.251882</td>\n",
              "      <td>-0.152365</td>\n",
              "    </tr>\n",
              "    <tr>\n",
              "      <th>...</th>\n",
              "      <td>...</td>\n",
              "      <td>...</td>\n",
              "      <td>...</td>\n",
              "    </tr>\n",
              "    <tr>\n",
              "      <th>99995</th>\n",
              "      <td>0.061836</td>\n",
              "      <td>0.245997</td>\n",
              "      <td>0.251370</td>\n",
              "    </tr>\n",
              "    <tr>\n",
              "      <th>99996</th>\n",
              "      <td>0.049962</td>\n",
              "      <td>0.250287</td>\n",
              "      <td>0.199618</td>\n",
              "    </tr>\n",
              "    <tr>\n",
              "      <th>99997</th>\n",
              "      <td>-0.048928</td>\n",
              "      <td>0.229516</td>\n",
              "      <td>-0.213178</td>\n",
              "    </tr>\n",
              "    <tr>\n",
              "      <th>99998</th>\n",
              "      <td>0.050206</td>\n",
              "      <td>0.256901</td>\n",
              "      <td>0.195430</td>\n",
              "    </tr>\n",
              "    <tr>\n",
              "      <th>99999</th>\n",
              "      <td>0.082046</td>\n",
              "      <td>0.259178</td>\n",
              "      <td>0.316562</td>\n",
              "    </tr>\n",
              "  </tbody>\n",
              "</table>\n",
              "<p>100000 rows × 3 columns</p>\n",
              "</div>\n",
              "      <button class=\"colab-df-convert\" onclick=\"convertToInteractive('df-33aa1cd6-852b-45ba-a9a9-c97d5280224c')\"\n",
              "              title=\"Convert this dataframe to an interactive table.\"\n",
              "              style=\"display:none;\">\n",
              "        \n",
              "  <svg xmlns=\"http://www.w3.org/2000/svg\" height=\"24px\"viewBox=\"0 0 24 24\"\n",
              "       width=\"24px\">\n",
              "    <path d=\"M0 0h24v24H0V0z\" fill=\"none\"/>\n",
              "    <path d=\"M18.56 5.44l.94 2.06.94-2.06 2.06-.94-2.06-.94-.94-2.06-.94 2.06-2.06.94zm-11 1L8.5 8.5l.94-2.06 2.06-.94-2.06-.94L8.5 2.5l-.94 2.06-2.06.94zm10 10l.94 2.06.94-2.06 2.06-.94-2.06-.94-.94-2.06-.94 2.06-2.06.94z\"/><path d=\"M17.41 7.96l-1.37-1.37c-.4-.4-.92-.59-1.43-.59-.52 0-1.04.2-1.43.59L10.3 9.45l-7.72 7.72c-.78.78-.78 2.05 0 2.83L4 21.41c.39.39.9.59 1.41.59.51 0 1.02-.2 1.41-.59l7.78-7.78 2.81-2.81c.8-.78.8-2.07 0-2.86zM5.41 20L4 18.59l7.72-7.72 1.47 1.35L5.41 20z\"/>\n",
              "  </svg>\n",
              "      </button>\n",
              "      \n",
              "  <style>\n",
              "    .colab-df-container {\n",
              "      display:flex;\n",
              "      flex-wrap:wrap;\n",
              "      gap: 12px;\n",
              "    }\n",
              "\n",
              "    .colab-df-convert {\n",
              "      background-color: #E8F0FE;\n",
              "      border: none;\n",
              "      border-radius: 50%;\n",
              "      cursor: pointer;\n",
              "      display: none;\n",
              "      fill: #1967D2;\n",
              "      height: 32px;\n",
              "      padding: 0 0 0 0;\n",
              "      width: 32px;\n",
              "    }\n",
              "\n",
              "    .colab-df-convert:hover {\n",
              "      background-color: #E2EBFA;\n",
              "      box-shadow: 0px 1px 2px rgba(60, 64, 67, 0.3), 0px 1px 3px 1px rgba(60, 64, 67, 0.15);\n",
              "      fill: #174EA6;\n",
              "    }\n",
              "\n",
              "    [theme=dark] .colab-df-convert {\n",
              "      background-color: #3B4455;\n",
              "      fill: #D2E3FC;\n",
              "    }\n",
              "\n",
              "    [theme=dark] .colab-df-convert:hover {\n",
              "      background-color: #434B5C;\n",
              "      box-shadow: 0px 1px 3px 1px rgba(0, 0, 0, 0.15);\n",
              "      filter: drop-shadow(0px 1px 2px rgba(0, 0, 0, 0.3));\n",
              "      fill: #FFFFFF;\n",
              "    }\n",
              "  </style>\n",
              "\n",
              "      <script>\n",
              "        const buttonEl =\n",
              "          document.querySelector('#df-33aa1cd6-852b-45ba-a9a9-c97d5280224c button.colab-df-convert');\n",
              "        buttonEl.style.display =\n",
              "          google.colab.kernel.accessAllowed ? 'block' : 'none';\n",
              "\n",
              "        async function convertToInteractive(key) {\n",
              "          const element = document.querySelector('#df-33aa1cd6-852b-45ba-a9a9-c97d5280224c');\n",
              "          const dataTable =\n",
              "            await google.colab.kernel.invokeFunction('convertToInteractive',\n",
              "                                                     [key], {});\n",
              "          if (!dataTable) return;\n",
              "\n",
              "          const docLinkHtml = 'Like what you see? Visit the ' +\n",
              "            '<a target=\"_blank\" href=https://colab.research.google.com/notebooks/data_table.ipynb>data table notebook</a>'\n",
              "            + ' to learn more about interactive tables.';\n",
              "          element.innerHTML = '';\n",
              "          dataTable['output_type'] = 'display_data';\n",
              "          await google.colab.output.renderOutput(dataTable, element);\n",
              "          const docLink = document.createElement('div');\n",
              "          docLink.innerHTML = docLinkHtml;\n",
              "          element.appendChild(docLink);\n",
              "        }\n",
              "      </script>\n",
              "    </div>\n",
              "  </div>\n",
              "  "
            ]
          },
          "metadata": {},
          "execution_count": 51
        }
      ]
    },
    {
      "cell_type": "code",
      "source": [
        "N_POINTS = 100 \n",
        "portf_vol_ef = []\n",
        "indices_to_skip = []\n",
        "\n",
        "portf_rtns_ef = np.linspace(portf_results_df.returns.min(), \n",
        "                            portf_results_df.returns.max(), \n",
        "                            N_POINTS)\n",
        "\n",
        "portf_rtns_ef = np.round(portf_rtns_ef, 2)\n",
        "portf_rtns = np.round(portf_rtns, 2)\n",
        "\n",
        "for point_index in range(N_POINTS): \n",
        "    if portf_rtns_ef[point_index] not in portf_rtns: \n",
        "         indices_to_skip.append(point_index) \n",
        "         continue \n",
        "    matched_ind = np.where(portf_rtns == portf_rtns_ef[point_index]) \n",
        "    # return elements chosen from x or y depending on condition\n",
        "    portf_vol_ef.append(np.min(portf_vol[matched_ind]))\n",
        "\n",
        "portf_rtns_ef = np.delete(portf_rtns_ef, indices_to_skip)"
      ],
      "metadata": {
        "id": "ncAHujF7aYsA"
      },
      "execution_count": 52,
      "outputs": []
    },
    {
      "cell_type": "code",
      "source": [
        "max_sharpe_ind = np.argmax(portf_results_df.sharpe_ratio)\n",
        "\n",
        "max_sharpe_portf = portf_results_df.loc[max_sharpe_ind] \n",
        "\n",
        "min_vol_ind = np.argmin(portf_results_df.volatility)\n",
        "\n",
        "min_vol_portf = portf_results_df.loc[min_vol_ind]"
      ],
      "metadata": {
        "id": "5roidmd0aYul"
      },
      "execution_count": 53,
      "outputs": []
    },
    {
      "cell_type": "code",
      "source": [
        "print('Maximum Sharpe Ratio portfolio ----')\n",
        "print('Performance')\n",
        "for index, value in max_sharpe_portf.items():\n",
        "    print(f'{index}: {100 * value:.2f}% ', end=\"\", flush=True)\n",
        "print('\\nWeights')\n",
        "for x, y in zip(RISKY_ASSETS, weights[np.argmax(portf_results_df.sharpe_ratio)]):\n",
        "    print(f'{x}: {100*y:.2f}% ', end=\"\", flush=True)"
      ],
      "metadata": {
        "colab": {
          "base_uri": "https://localhost:8080/"
        },
        "id": "tG6lDADuaYxC",
        "outputId": "bf886e4f-d8c0-44d7-9d70-9a456d0d5c2f"
      },
      "execution_count": 54,
      "outputs": [
        {
          "output_type": "stream",
          "name": "stdout",
          "text": [
            "Maximum Sharpe Ratio portfolio ----\n",
            "Performance\n",
            "returns: 21.28% volatility: 28.30% sharpe_ratio: 75.20% \n",
            "Weights\n",
            "AAPL: 0.19% IBM: 0.29% MSFT: 99.52% "
          ]
        }
      ]
    },
    {
      "cell_type": "code",
      "source": [
        "print('Minimum Volatility portfolio ----')\n",
        "print('Performance')\n",
        "for index, value in min_vol_portf.items():\n",
        "    print(f'{index}: {100 * value:.2f}% ', end=\"\", flush=True)\n",
        "print('\\nWeights')\n",
        "for x, y in zip(RISKY_ASSETS, weights[np.argmin(portf_results_df.volatility)]):\n",
        "    print(f'{x}: {100*y:.2f}% ', end=\"\", flush=True)"
      ],
      "metadata": {
        "colab": {
          "base_uri": "https://localhost:8080/"
        },
        "id": "YNIeknFiaYzQ",
        "outputId": "d1255cd5-629a-44f4-aa14-2e144e8431c5"
      },
      "execution_count": 55,
      "outputs": [
        {
          "output_type": "stream",
          "name": "stdout",
          "text": [
            "Minimum Volatility portfolio ----\n",
            "Performance\n",
            "returns: -12.38% volatility: 22.58% sharpe_ratio: -54.84% \n",
            "Weights\n",
            "AAPL: 28.08% IBM: 58.69% MSFT: 13.22% "
          ]
        }
      ]
    },
    {
      "cell_type": "markdown",
      "source": [
        "## HW 4\n"
      ],
      "metadata": {
        "id": "zPuLuYNW2gEa"
      }
    },
    {
      "cell_type": "code",
      "source": [
        "import matplotlib.pyplot as plt\n",
        "import warnings\n",
        "plt.style.use('seaborn')\n",
        "# plt.style.use('seaborn-colorblind') #alternative\n",
        "plt.rcParams['figure.figsize'] = [5, 3.5]\n",
        "plt.rcParams['lines.linewidth'] = 1\n",
        "warnings.simplefilter(action='ignore', category=FutureWarning)"
      ],
      "metadata": {
        "id": "wG34quJqmRct"
      },
      "execution_count": 57,
      "outputs": []
    },
    {
      "cell_type": "code",
      "source": [
        "RISKY_ASSET = 'MSFT'\n",
        "import matplotlib.pyplot as plt\n",
        "import warnings\n",
        "plt.style.use('seaborn')\n",
        "# plt.style.use('seaborn-colorblind') #alternative\n",
        "plt.rcParams['figure.figsize'] = [5, 3.5]\n",
        "plt.rcParams['lines.linewidth'] = 1\n",
        "warnings.simplefilter(action='ignore', category=FutureWarning)\n",
        "START_DATE = '2018-01-01'\n",
        "END_DATE = '2018-12-31'"
      ],
      "metadata": {
        "id": "dn94r_hUhdYv"
      },
      "execution_count": 58,
      "outputs": []
    },
    {
      "cell_type": "code",
      "source": [
        "df = yf.download(RISKY_ASSET, start=START_DATE, \n",
        "                 end=END_DATE, adjusted=True)\n",
        "print(f'Downloaded {df.shape[0]} rows of data.')"
      ],
      "metadata": {
        "colab": {
          "base_uri": "https://localhost:8080/"
        },
        "id": "A7MyBfWkhdhH",
        "outputId": "e34c37c3-b287-472c-cc20-859e3b6f03b8"
      },
      "execution_count": 59,
      "outputs": [
        {
          "output_type": "stream",
          "name": "stdout",
          "text": [
            "\r[*********************100%***********************]  1 of 1 completed\n",
            "Downloaded 250 rows of data.\n"
          ]
        }
      ]
    },
    {
      "cell_type": "code",
      "source": [
        "adj_close = df['Adj Close']\n",
        "returns = adj_close.pct_change().dropna()"
      ],
      "metadata": {
        "id": "HU-xiVdDhdmx"
      },
      "execution_count": 60,
      "outputs": []
    },
    {
      "cell_type": "code",
      "source": [
        "train = returns['2018-01-01':'2018-11-30']\n",
        "test = returns['2018-12-01':'2018-12-31']"
      ],
      "metadata": {
        "id": "d5qgMAKchdu5"
      },
      "execution_count": 61,
      "outputs": []
    },
    {
      "cell_type": "code",
      "source": [
        "T = len(test)\n",
        "N = len(test) \n",
        "s_0 = adj_close[train.index[-1]]\n",
        "N_SIM = 100 \n",
        "mu = train.mean()\n",
        "sigma = train.std()"
      ],
      "metadata": {
        "id": "IpESvznezEuv"
      },
      "execution_count": 62,
      "outputs": []
    },
    {
      "cell_type": "code",
      "source": [
        "def simulate_gbm(s_0, mu, sigma, n_sims, T, N, \n",
        "                 random_seed=42):\n",
        "\n",
        "    np.random.seed(random_seed)\n",
        "\n",
        "    dt = T/N\n",
        "    dW = np.random.normal(scale = np.sqrt(dt), size=(n_sims, N))\n",
        "    W = np.cumsum(dW, axis =1)\n",
        "\n",
        "    time_step = np.linspace(dt, T, N)\n",
        "    time_steps = np.broadcast_to(time_step, (n_sims, N))\n",
        "\n",
        "    S_t = s_0 * np.exp((mu - 0.5 * sigma ** 2) * time_steps\n",
        "                       + sigma * W)\n",
        "    S_t = np.insert(S_t, 0, s_0, axis=1)\n",
        "\n",
        "    return S_t"
      ],
      "metadata": {
        "id": "Sc5G4AOvzEqB"
      },
      "execution_count": 63,
      "outputs": []
    },
    {
      "cell_type": "code",
      "source": [
        "gbm_simulations = simulate_gbm(s_0, mu, sigma, N_SIM, T, N)"
      ],
      "metadata": {
        "id": "x6wdPKtyzEmz"
      },
      "execution_count": 64,
      "outputs": []
    },
    {
      "cell_type": "code",
      "source": [
        "last_train_date = train.index[-1].date()\n",
        "first_test_date = test.index[0].date()\n",
        "last_test_date = test.index[-1].date()\n",
        "plot_title = (f'{RISKY_ASSET} Simulation '\n",
        "              f'({first_test_date}:{last_test_date})')\n",
        "\n",
        "selected_indices = adj_close[last_train_date:last_test_date].index\n",
        "index = [date.date() for date in selected_indices]\n",
        "\n",
        "gbm_simulations_df = pd.DataFrame(np.transpose(gbm_simulations), \n",
        "                                  index=index)"
      ],
      "metadata": {
        "id": "Qwp9y_tPzEed"
      },
      "execution_count": 65,
      "outputs": []
    },
    {
      "cell_type": "code",
      "source": [
        "\n",
        "ax = gbm_simulations_df.plot(alpha=0.2, legend=False)\n",
        "line_1, = ax.plot(index, gbm_simulations_df.mean(axis=1), \n",
        "                  color='red')\n",
        "line_2, = ax.plot(index, adj_close[last_train_date:last_test_date], \n",
        "                  color='blue')\n",
        "ax.set_title(plot_title, fontsize=16)\n",
        "ax.legend((line_1, line_2), ('mean', 'actual'))\n",
        "\n",
        "plt.tight_layout()\n",
        "plt.show()"
      ],
      "metadata": {
        "colab": {
          "base_uri": "https://localhost:8080/",
          "height": 261
        },
        "id": "-OccL8jDzNNR",
        "outputId": "b6a73de3-5690-48be-c245-71275c66fcdd"
      },
      "execution_count": 66,
      "outputs": [
        {
          "output_type": "display_data",
          "data": {
            "text/plain": [
              "<Figure size 360x252 with 1 Axes>"
            ],
            "image/png": "[encoded data removed]"
          },
          "metadata": {}
        }
      ]
    }
  ]
}